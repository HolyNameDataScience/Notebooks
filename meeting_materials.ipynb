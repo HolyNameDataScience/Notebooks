{
 "cells": [
  {
   "cell_type": "markdown",
   "metadata": {},
   "source": [
    "## Case Study $1$ : penalized regressions & overfitting issue"
   ]
  },
  {
   "cell_type": "markdown",
   "metadata": {},
   "source": [
    "### linear regression with only $1-d$ variable"
   ]
  },
  {
   "cell_type": "code",
   "execution_count": 62,
   "metadata": {},
   "outputs": [
    {
     "name": "stdout",
     "output_type": "stream",
     "text": [
      "100 900\n"
     ]
    }
   ],
   "source": [
    "import pickle\n",
    "import matplotlib.pylab as plt\n",
    "import numpy as np\n",
    "\n",
    "data = pickle.load( open(\"/Users/xm/Documents/Xinpei's Code/MachineLearning/HW2/lasso/code/lasso_data.pickle\", \"rb\" ) )\n",
    "x_test = data['x_test']\n",
    "x_train = data['x_train']\n",
    "y_test = data['y_test']\n",
    "y_train = data['y_train']\n",
    "# train 100 samples and testing 900 samples\n",
    "print(len(x_train), len(x_test))"
   ]
  },
  {
   "cell_type": "code",
   "execution_count": 63,
   "metadata": {},
   "outputs": [],
   "source": [
    "def rmse(predictions, targets):\n",
    "    differences = predictions - targets                       #the DIFFERENCEs.\n",
    "    differences_squared = differences ** 2                    #the SQUAREs of ^\n",
    "    mean_of_differences_squared = differences_squared.mean()  #the MEAN of ^\n",
    "    rmse_val = np.sqrt(mean_of_differences_squared)           #ROOT of ^\n",
    "    return rmse_val  "
   ]
  },
  {
   "cell_type": "code",
   "execution_count": 64,
   "metadata": {},
   "outputs": [
    {
     "data": {
      "text/plain": [
       "<matplotlib.collections.PathCollection at 0x1a20ab5940>"
      ]
     },
     "execution_count": 64,
     "metadata": {},
     "output_type": "execute_result"
    },
    {
     "data": {
      "image/png": "[encoded data removed]",
      "text/plain": [
       "<Figure size 432x288 with 1 Axes>"
      ]
     },
     "metadata": {
      "needs_background": "light"
     },
     "output_type": "display_data"
    }
   ],
   "source": [
    "plt.scatter(x_train, y_train, s=3, color='k', label='Training data')"
   ]
  },
  {
   "cell_type": "code",
   "execution_count": 65,
   "metadata": {},
   "outputs": [
    {
     "name": "stdout",
     "output_type": "stream",
     "text": [
      "0.8328654955386372\n"
     ]
    }
   ],
   "source": [
    "from sklearn import linear_model\n",
    "reg = linear_model.LinearRegression()\n",
    "reg.fit([[i] for i in x_train], y_train)\n",
    "predict = reg.predict([[i] for i in x_test])\n",
    "print(rmse(predict, y_test))"
   ]
  },
  {
   "cell_type": "markdown",
   "metadata": {},
   "source": [
    "### 2) generate features based on simple linear functions\n",
    "Method:\n",
    "define n linear small internals, \n",
    "if x[x >= upper_bound] = 1, otherwise, 0"
   ]
  },
  {
   "cell_type": "code",
   "execution_count": 66,
   "metadata": {},
   "outputs": [],
   "source": [
    "# 1d - 400d\n",
    "# sparse linear combination of our features\n",
    "import pandas as pd\n",
    "train_ = pd.read_csv(\"/Users/xm/Documents/Xinpei's Code/Meeting/regression/reg_feature_train.csv\")\n",
    "feature_names = [\"feature\" + str(i) for i in range(1, 401)]\n",
    "x_train_fea = train_[feature_names]"
   ]
  },
  {
   "cell_type": "code",
   "execution_count": 67,
   "metadata": {},
   "outputs": [],
   "source": [
    "test_ = pd.read_csv(\"/Users/xm/Documents/Xinpei's Code/Meeting/regression/reg_feature_test.csv\")\n",
    "x_test_fea = test_[feature_names]"
   ]
  },
  {
   "cell_type": "markdown",
   "metadata": {},
   "source": [
    "#### Basic Linear Models v.s. DataRobot"
   ]
  },
  {
   "cell_type": "code",
   "execution_count": 68,
   "metadata": {},
   "outputs": [
    {
     "name": "stdout",
     "output_type": "stream",
     "text": [
      "826647838.6072543\n"
     ]
    }
   ],
   "source": [
    "# regular regression\n",
    "reg = linear_model.LinearRegression()\n",
    "reg.fit(x_train_fea, y_train)\n",
    "predict = reg.predict(x_test_fea)\n",
    "print(rmse(predict, y_test))"
   ]
  },
  {
   "cell_type": "code",
   "execution_count": 73,
   "metadata": {},
   "outputs": [
    {
     "name": "stdout",
     "output_type": "stream",
     "text": [
      "0.1810244329276658\n",
      "0.37667843018044794\n"
     ]
    }
   ],
   "source": [
    "# default ridge (without any of parameter tunning)\n",
    "from sklearn.linear_model import Ridge\n",
    "ridge = Ridge(alpha=1.0)\n",
    "ridge.fit(x_train_fea, y_train) \n",
    "predict_train1 = ridge.predict(x_train_fea)\n",
    "print(rmse(predict_train1, y_train))\n",
    "predict1 = ridge.predict(x_test_fea)\n",
    "print(rmse(predict1, y_test))"
   ]
  },
  {
   "cell_type": "code",
   "execution_count": 74,
   "metadata": {},
   "outputs": [
    {
     "name": "stdout",
     "output_type": "stream",
     "text": [
      "0.1810244329276658\n",
      "0.626171627111302\n"
     ]
    }
   ],
   "source": [
    "# lasso (without any of parameter tunning)\n",
    "from sklearn.linear_model import Lasso\n",
    "lasso = Lasso(alpha = 0.1)\n",
    "lasso.fit(x_train_fea, y_train) \n",
    "predict_train2 = ridge.predict(x_train_fea)\n",
    "print(rmse(predict_train2, y_train))\n",
    "predict2 = lasso.predict(x_test_fea)\n",
    "print(rmse(predict2, y_test))"
   ]
  },
  {
   "cell_type": "code",
   "execution_count": 71,
   "metadata": {},
   "outputs": [
    {
     "name": "stdout",
     "output_type": "stream",
     "text": [
      "0.5762918191232448\n"
     ]
    }
   ],
   "source": [
    "# datarobot best results among 35 models\n",
    "dr_df = pd.read_csv(\"/Users/xm/Documents/Xinpei's Code/Meeting/regression/DR_predict.csv\")\n",
    "predict3 = dr_df[\"Prediction\"]\n",
    "print(rmse(predict3, y_test))"
   ]
  },
  {
   "cell_type": "markdown",
   "metadata": {},
   "source": [
    "#### Comments: DataRobot overfit the data?\n",
    "#### Questions: \n",
    "#### 1. how to get penalized regression's coefficients in order to known which variables are penalized to zero to values close to zero.\n",
    "\n",
    "#### 2. how to set parameter $p$\n",
    "$J(w;\\lambda)=\\frac{1}{n}\\sum_{i=1}^{n}\\left(w^{T}x_{i}-y_{i}\\right)^{2}+\\lambda\\|w\\|^{p}.$"
   ]
  },
  {
   "cell_type": "code",
   "execution_count": null,
   "metadata": {},
   "outputs": [],
   "source": []
  }
 ],
 "metadata": {
  "kernelspec": {
   "display_name": "Python [conda env:machine_learning]",
   "language": "python",
   "name": "conda-env-machine_learning-py"
  },
  "language_info": {
   "codemirror_mode": {
    "name": "ipython",
    "version": 3
   },
   "file_extension": ".py",
   "mimetype": "text/x-python",
   "name": "python",
   "nbconvert_exporter": "python",
   "pygments_lexer": "ipython3",
   "version": "3.6.8"
  }
 },
 "nbformat": 4,
 "nbformat_minor": 2
}
